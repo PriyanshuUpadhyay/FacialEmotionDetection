{
 "cells": [
  {
   "cell_type": "markdown",
   "id": "israeli-skirt",
   "metadata": {},
   "source": [
    "### Facial Emotion Detection\n",
    "This exmaple demonstrates how to use python libraries to detect facial emotion through a camera feed.\n",
    "Libraries used:\n",
    "1. opencv-python: Opencv is an open source library which is useful for computer vision applications such as video analysis, CCTV footage analysis and image analysis.\n",
    "2. DeepFace : DeepFace is a deep learning facial recognition system created by a research group at Facebook."
   ]
  },
  {
   "cell_type": "markdown",
   "id": "blocked-bandwidth",
   "metadata": {},
   "source": [
    "#### Flow of script:"
   ]
  },
  {
   "cell_type": "markdown",
   "id": "chubby-march",
   "metadata": {},
   "source": [
    "1. Importing libraries cv2 & DeepFace"
   ]
  },
  {
   "cell_type": "code",
   "execution_count": 46,
   "id": "prime-lover",
   "metadata": {},
   "outputs": [],
   "source": [
    "import cv2 #pip install opencv-python\n",
    "from deepface import DeepFace #pip install deepface"
   ]
  },
  {
   "cell_type": "markdown",
   "id": "paperback-extraction",
   "metadata": {},
   "source": [
    "2. Loading our classifier which takes file path of the xml file as a parameter\n",
    ">\"haarcascade\" is used for detecting faces in a image.\n",
    "<br>In our case it will be used to detect face in each frame of the video captured."
   ]
  },
  {
   "cell_type": "code",
   "execution_count": 47,
   "id": "equipped-finger",
   "metadata": {},
   "outputs": [],
   "source": [
    "cascade = cv2.CascadeClassifier(cv2.data.haarcascades + 'haarcascade_frontalface_default.xml')"
   ]
  },
  {
   "cell_type": "markdown",
   "id": "enabling-holly",
   "metadata": {},
   "source": [
    "3. Open up our webcam using cv2\n",
    ">We try opening both cameras one by one if we are not able to open any one of the camera, we raise an error."
   ]
  },
  {
   "cell_type": "code",
   "execution_count": 48,
   "id": "saved-bathroom",
   "metadata": {},
   "outputs": [],
   "source": [
    "cap = cv2.VideoCapture(1)\n",
    "if not cap.isOpened():\n",
    "    cap = cv2.VideoCapture(0)\n",
    "if not cap.isOpened():\n",
    "    raise IOError('Cannot Open Camera')"
   ]
  },
  {
   "cell_type": "markdown",
   "id": "recognized-arrest",
   "metadata": {},
   "source": [
    "4. Working on each frame of the captured video\n",
    ">a. We enter a loop which will read the camera feed and flip each frame.\n",
    "<br><br>b. Frame is analyzed using Deepface and saves values associated with emotion in result.\n",
    "<br><br>c. Each fram is then converted to gray for better face detection\n",
    "<br><br>d. The all the faces' details are stored in faces variable.\n",
    "<br><br>e. For each face in the frame a rectangle is drawn around the face.\n",
    "<br><br>f. We then put a text above the rectangle indicating the dominant emotion.\n",
    "<br><br>g. The video is displyed with all the modification applied to each frame like the rectangle and the text.\n",
    "<br><br>h. There is last piece of code that is there to stop the video capture when 'q' key is pressed."
   ]
  },
  {
   "cell_type": "code",
   "execution_count": 49,
   "id": "white-emission",
   "metadata": {},
   "outputs": [],
   "source": [
    "while True:\n",
    "    ret, frame = cap.read() #read the camera feed\n",
    "    frame = cv2.flip(frame,1)#Fliping each frame to mirror the feed for better output video\n",
    "    result = DeepFace.analyze(frame, actions=['emotion']) #analyze the frame and look for emotion attribute and save it in a result\n",
    "    \n",
    "    \n",
    "    gray = cv2.cvtColor(frame,cv2.COLOR_BGR2GRAY) # convert the fram to Gray\n",
    "    \n",
    "    faces = cascade.detectMultiScale(gray,1.1, 4) # detects faces in the image/frame\n",
    "    (x1, y1) = (0,0)\n",
    "    \n",
    "    for (x,y,w,h) in faces: # for loop for putting a rectangle around the face\n",
    "        cv2.rectangle(frame, (x,y), (x+w, y+h), (0,255,0), 1)\n",
    "        x1 = x\n",
    "        y1 = y\n",
    "        # parameters (image,top left coords of detection, bottomright coords of detection, color of rectangle, thickness of border)\n",
    "    \n",
    "     \n",
    "\n",
    "    font = cv2.FONT_HERSHEY_SIMPLEX # font of the text to show the emotion\n",
    "    \n",
    "    cv2.putText(frame,\n",
    "        result['dominant_emotion'].capitalize(),\n",
    "        (x1,y1-10),\n",
    "        font, 1, \n",
    "        (0,0,255),\n",
    "        2\n",
    "    ) #put the text (dominant_emotion, position of text, font,size of text, color of text, boldness of text)\n",
    "    \n",
    "    cv2.imshow('video', frame)\n",
    "    if cv2.waitKey(2) & 0xff == ord('q'):\n",
    "        break\n",
    "        \n",
    "cap.release() #release the camera or stop reading it\n",
    "cv2.destroyAllWindows() #destroy the window which was opened when camera was started."
   ]
  }
 ],
 "metadata": {
  "kernelspec": {
   "display_name": "Python 3",
   "language": "python",
   "name": "python3"
  },
  "language_info": {
   "codemirror_mode": {
    "name": "ipython",
    "version": 3
   },
   "file_extension": ".py",
   "mimetype": "text/x-python",
   "name": "python",
   "nbconvert_exporter": "python",
   "pygments_lexer": "ipython3",
   "version": "3.8.5"
  }
 },
 "nbformat": 4,
 "nbformat_minor": 5
}
