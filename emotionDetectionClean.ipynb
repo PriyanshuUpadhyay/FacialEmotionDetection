{
 "cells": [
  {
   "cell_type": "markdown",
   "id": "chubby-march",
   "metadata": {},
   "source": [
    "> - Importing libraries cv2 & DeepFace"
   ]
  },
  {
   "cell_type": "code",
   "execution_count": 46,
   "id": "prime-lover",
   "metadata": {},
   "outputs": [],
   "source": [
    "import cv2 #pip install opencv-python\n",
    "from deepface import DeepFace #pip install deepface"
   ]
  },
  {
   "cell_type": "markdown",
   "id": "paperback-extraction",
   "metadata": {},
   "source": [
    "> - \"haarcascade\" is used for detecting faces in a image. \n",
    "> - In our case it will be used to detect face in each frame of the video captured."
   ]
  },
  {
   "cell_type": "code",
   "execution_count": 47,
   "id": "equipped-finger",
   "metadata": {},
   "outputs": [],
   "source": [
    "cascade = cv2.CascadeClassifier(cv2.data.haarcascades + 'haarcascade_frontalface_default.xml')"
   ]
  },
  {
   "cell_type": "markdown",
   "id": "enabling-holly",
   "metadata": {},
   "source": [
    "> - Now we try to open camera to capture the video. \n",
    "> - We try opening both cameras one by one if we are not able to open any one of the camera, we raise an error."
   ]
  },
  {
   "cell_type": "code",
   "execution_count": 48,
   "id": "saved-bathroom",
   "metadata": {},
   "outputs": [],
   "source": [
    "cap = cv2.VideoCapture(1)\n",
    "if not cap.isOpened():\n",
    "    cap = cv2.VideoCapture(0)\n",
    "if not cap.isOpened():\n",
    "    raise IOError('Cannot Open Camera')"
   ]
  },
  {
   "cell_type": "markdown",
   "id": "recognized-arrest",
   "metadata": {},
   "source": [
    "> - Next we enter a loop which will read the camera feed and analyze it using Deepface\n",
    "> - The term MultiScale indicates that the algorithm looks at subregions of the image in multiple scales, to detect faces of varying sizes.\n",
    "> - first param of multiscale() is the frame to be checked for faces. Second is the scale factor to resize the image to make it detectable. Third parameter is the minNeighbours; Higher its value less the detections but greater quality."
   ]
  },
  {
   "cell_type": "code",
   "execution_count": 49,
   "id": "white-emission",
   "metadata": {},
   "outputs": [],
   "source": [
    "while True:\n",
    "    ret, frame = cap.read() #read the camera feed\n",
    "    frame = cv2.flip(frame,1)\n",
    "    result = DeepFace.analyze(frame, actions=['emotion']) #analyze the frame and look for emotion attribute and save it in a result\n",
    "    \n",
    "    # result contain data in Json format and in our case has a dominant_emotion as a key which stores the same\n",
    "    \n",
    "    gray = cv2.cvtColor(frame,cv2.COLOR_BGR2GRAY) # convert the fram to Gray color for better face detection\n",
    "    \n",
    "    faces = cascade.detectMultiScale(gray,1.1, 4) # detects faces in the image/frame and saves the results in faces\n",
    "    (x1, y1) = (0,0)\n",
    "    \n",
    "    for (x,y,w,h) in faces: # for loop for putting a rectangle around the face in each frame.\n",
    "        cv2.rectangle(frame, (x,y), (x+w, y+h), (0,255,0), 1)\n",
    "        x1 = x\n",
    "        y1 = y\n",
    "        # parameters (image,top left coords of detection, bottomright coords of detection, color of rectangle, thickness of border)\n",
    "    \n",
    "     #Fliping each frame to mirror the feed for better output video\n",
    "\n",
    "    font = cv2.FONT_HERSHEY_SIMPLEX # font of the text to show the emotion\n",
    "    \n",
    "    cv2.putText(frame,\n",
    "        result['dominant_emotion'].capitalize(), #new\n",
    "        (x1,y1-10),\n",
    "        font, 1, #new\n",
    "        (0,0,255),\n",
    "        2\n",
    "    ) #put the text (dominant_emotion, position of text, font,size of text, color of text, boldness of text)\n",
    "    \n",
    "    cv2.imshow('video', frame) #show the frame with all the modifications to the feed\n",
    "    if cv2.waitKey(2) & 0xff == ord('q'): #check if 'q' is pressed if yes quit.\n",
    "        break\n",
    "        \n",
    "cap.release() #release the camera or stop reading it\n",
    "cv2.destroyAllWindows() #destroy the window which was opened when camera was started."
   ]
  },
  {
   "cell_type": "code",
   "execution_count": null,
   "id": "straight-tactics",
   "metadata": {},
   "outputs": [],
   "source": []
  }
 ],
 "metadata": {
  "kernelspec": {
   "display_name": "Python 3",
   "language": "python",
   "name": "python3"
  },
  "language_info": {
   "codemirror_mode": {
    "name": "ipython",
    "version": 3
   },
   "file_extension": ".py",
   "mimetype": "text/x-python",
   "name": "python",
   "nbconvert_exporter": "python",
   "pygments_lexer": "ipython3",
   "version": "3.8.5"
  }
 },
 "nbformat": 4,
 "nbformat_minor": 5
}
